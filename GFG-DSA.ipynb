{
 "cells": [
  {
   "cell_type": "markdown",
   "id": "48259027-3000-4888-aedc-e85ed526e8aa",
   "metadata": {},
   "source": [
    "# This is a PYTHON DSA Codebook.\n",
    "This note contains codes for DSA Topics in proper sequence.\n",
    "Programs are documented (wherever neccessary) and follow best coding practices."
   ]
  },
  {
   "cell_type": "markdown",
   "id": "e1a4347e-b76d-476e-94e2-a8f4ea3dfce5",
   "metadata": {
    "tags": []
   },
   "source": [
    "# BASICS"
   ]
  },
  {
   "cell_type": "markdown",
   "id": "596fa36b-cee8-45f6-90dc-3fe974c9f1df",
   "metadata": {
    "tags": []
   },
   "source": [
    "## 1. Mathematics"
   ]
  },
  {
   "cell_type": "markdown",
   "id": "f3f15e8a-5e1c-4116-afc5-1a8021b94aea",
   "metadata": {
    "tags": []
   },
   "source": [
    "### 1. Sum of Natural Numbers."
   ]
  },
  {
   "cell_type": "code",
   "execution_count": 1,
   "id": "495f99a6-51b2-4bc9-ae55-f74c053bbada",
   "metadata": {},
   "outputs": [
    {
     "name": "stdin",
     "output_type": "stream",
     "text": [
      "Enter a Natural Number 10\n"
     ]
    },
    {
     "name": "stdout",
     "output_type": "stream",
     "text": [
      "The sum of first 10 natural numbers is 55.\n"
     ]
    }
   ],
   "source": [
    "#Naive Approach\n",
    "n = int(input(\"Enter a Natural Number\"))\n",
    "sum = 0\n",
    "for i in range(n+1):\n",
    "    sum += i\n",
    "print(\"The sum of first {} natural numbers is {}.\".format(n,sum))"
   ]
  },
  {
   "cell_type": "code",
   "execution_count": 2,
   "id": "9672a2ca-7e89-4d03-8f7b-b5c3221c896b",
   "metadata": {},
   "outputs": [
    {
     "name": "stdin",
     "output_type": "stream",
     "text": [
      "Enter a Natural Number :  10\n"
     ]
    },
    {
     "name": "stdout",
     "output_type": "stream",
     "text": [
      "The sum of first 10 natural numbers is 55.\n"
     ]
    }
   ],
   "source": [
    "#Best Solution\n",
    "n = int(input(\"Enter a Natural Number : \"))\n",
    "sum = n*(n+1)//2\n",
    "print(f\"The sum of first {n} natural numbers is {sum}.\")"
   ]
  },
  {
   "cell_type": "markdown",
   "id": "88318ba4-e13b-451d-ae34-ddf77a4657df",
   "metadata": {},
   "source": [
    "### 2. Count Number of Digits"
   ]
  },
  {
   "cell_type": "code",
   "execution_count": 3,
   "id": "74819448-93ab-424a-bf73-f90228d67719",
   "metadata": {},
   "outputs": [
    {
     "name": "stdin",
     "output_type": "stream",
     "text": [
      "Enter a number to count it's digit :  10\n"
     ]
    },
    {
     "name": "stdout",
     "output_type": "stream",
     "text": [
      "There are 2 digits in the number 10.\n"
     ]
    }
   ],
   "source": [
    "#Best Approach\n",
    "n = int(input(\"Enter a number to count it's digit : \"))\n",
    "temp_n = n\n",
    "digits = 0\n",
    "while temp_n > 0:\n",
    "    temp_n //= 10\n",
    "    digits += 1\n",
    "print(f\"There are {digits} digits in the number {n}.\")"
   ]
  },
  {
   "cell_type": "markdown",
   "id": "23b85b09-f806-4de3-9631-99545d4d6774",
   "metadata": {
    "tags": []
   },
   "source": [
    "### 3. Palindrome Number"
   ]
  },
  {
   "cell_type": "code",
   "execution_count": 4,
   "id": "417d0d0b-54af-4e39-870c-594b73741e03",
   "metadata": {},
   "outputs": [
    {
     "name": "stdin",
     "output_type": "stream",
     "text": [
      "Enter a number to check if it is palindrome :  1001\n"
     ]
    },
    {
     "name": "stdout",
     "output_type": "stream",
     "text": [
      "1001\n",
      "This is a palindrome number!\n"
     ]
    }
   ],
   "source": [
    "#Best Approach\n",
    "n = int(input(\"Enter a number to check if it is palindrome : \"))\n",
    "temp_n = n\n",
    "palindrome = 0\n",
    "while temp_n > 0:\n",
    "    ld = temp_n%10\n",
    "    palindrome = palindrome * 10 + ld\n",
    "    temp_n=temp_n//10\n",
    "\n",
    "print(palindrome)\n",
    "if n == palindrome:\n",
    "    print(\"This is a palindrome number!\")\n",
    "else:\n",
    "    print(\"Not a palindrome number!\")"
   ]
  },
  {
   "cell_type": "markdown",
   "id": "7cd4f727-bc5b-4172-8e04-afd5b0f5305d",
   "metadata": {},
   "source": [
    "### 4. Factorial of a Number"
   ]
  },
  {
   "cell_type": "code",
   "execution_count": 5,
   "id": "b288af94-7d85-4272-bf35-247db6ffa452",
   "metadata": {},
   "outputs": [
    {
     "name": "stdin",
     "output_type": "stream",
     "text": [
      "Enter a number to find its factorial :  101\n"
     ]
    },
    {
     "name": "stdout",
     "output_type": "stream",
     "text": [
      "The factorial of 101 is 9425947759838359420851623124482936749562312794702543768327889353416977599316221476503087861591808346911623490003549599583369706302603264000000000000000000000000\n"
     ]
    }
   ],
   "source": [
    "#Iterative Approach\n",
    "n = int(input(\"Enter a number to find its factorial : \"))\n",
    "fact = 1\n",
    "for i in range(1,n+1):\n",
    "    fact *= i\n",
    "print(f\"The factorial of {n} is {fact}\")\n",
    "# Time complexity is Theta(n)"
   ]
  },
  {
   "cell_type": "code",
   "execution_count": 6,
   "id": "2b4b8ace-6a31-4e9d-b4a8-2e4e390596af",
   "metadata": {},
   "outputs": [],
   "source": [
    "#Recursive Approach\n",
    "def fact(n):\n",
    "    \n",
    "    if n == 0:\n",
    "        return 1\n",
    "\n",
    "    return n * fact(n-1)\n",
    "# Time complexity is Theta(n)"
   ]
  },
  {
   "cell_type": "code",
   "execution_count": 7,
   "id": "3ec07734-b32e-4d8d-8551-8a70251a6e22",
   "metadata": {},
   "outputs": [
    {
     "data": {
      "text/plain": [
       "3628800"
      ]
     },
     "execution_count": 7,
     "metadata": {},
     "output_type": "execute_result"
    }
   ],
   "source": [
    "fact(10)"
   ]
  },
  {
   "cell_type": "markdown",
   "id": "62ea85e9-40dd-43ad-a207-fe32cdf047a0",
   "metadata": {
    "tags": []
   },
   "source": [
    "### 5. Trailing Zeros in Factorial"
   ]
  },
  {
   "cell_type": "code",
   "execution_count": 8,
   "id": "ee69b0c9-93d4-44cc-993f-775ac11dc7fd",
   "metadata": {},
   "outputs": [],
   "source": [
    "# Naive Solution\n",
    "def countZeros(n):\n",
    "    fact = 1\n",
    "    for i in range(1,n+1):\n",
    "        fact *= i\n",
    "    res = 0\n",
    "    while(fact % 10 ==0):\n",
    "        res += 1\n",
    "        fact //=10\n",
    "    return res"
   ]
  },
  {
   "cell_type": "code",
   "execution_count": 9,
   "id": "d96176cb-7e0f-4a4e-ac52-4c93a7545aa8",
   "metadata": {},
   "outputs": [
    {
     "data": {
      "text/plain": [
       "62"
      ]
     },
     "execution_count": 9,
     "metadata": {},
     "output_type": "execute_result"
    }
   ],
   "source": [
    "countZeros(251)"
   ]
  },
  {
   "cell_type": "code",
   "execution_count": 12,
   "id": "d4ce2012-9949-4301-8d81-54d4fa611f60",
   "metadata": {},
   "outputs": [],
   "source": [
    "# Best Solution\n",
    "def countZerosBest(n):\n",
    "    res = 0\n",
    "    i = 5\n",
    "    while (i<=n):\n",
    "        res = res + n//i\n",
    "        i *= 5\n",
    "    return res\n",
    "# Time complexity is theta(logn)"
   ]
  },
  {
   "cell_type": "code",
   "execution_count": 13,
   "id": "64817bb4-440f-44e9-b2c6-4f969e840649",
   "metadata": {},
   "outputs": [
    {
     "data": {
      "text/plain": [
       "62"
      ]
     },
     "execution_count": 13,
     "metadata": {},
     "output_type": "execute_result"
    }
   ],
   "source": [
    "countZerosBest(251)"
   ]
  }
 ],
 "metadata": {
  "kernelspec": {
   "display_name": "Python 3 (ipykernel)",
   "language": "python",
   "name": "python3"
  },
  "language_info": {
   "codemirror_mode": {
    "name": "ipython",
    "version": 3
   },
   "file_extension": ".py",
   "mimetype": "text/x-python",
   "name": "python",
   "nbconvert_exporter": "python",
   "pygments_lexer": "ipython3",
   "version": "3.11.1"
  }
 },
 "nbformat": 4,
 "nbformat_minor": 5
}
