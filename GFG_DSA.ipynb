{
 "cells": [
  {
   "cell_type": "markdown",
   "id": "48259027-3000-4888-aedc-e85ed526e8aa",
   "metadata": {
    "id": "48259027-3000-4888-aedc-e85ed526e8aa"
   },
   "source": [
    "# This is a PYTHON DSA Codebook.\n",
    "This note contains codes for DSA Topics in proper sequence.\n",
    "Programs are documented (wherever neccessary) and follow best coding practices."
   ]
  },
  {
   "cell_type": "markdown",
   "id": "e1a4347e-b76d-476e-94e2-a8f4ea3dfce5",
   "metadata": {
    "id": "e1a4347e-b76d-476e-94e2-a8f4ea3dfce5",
    "tags": []
   },
   "source": [
    "# BASICS"
   ]
  },
  {
   "cell_type": "markdown",
   "id": "596fa36b-cee8-45f6-90dc-3fe974c9f1df",
   "metadata": {
    "id": "596fa36b-cee8-45f6-90dc-3fe974c9f1df",
    "tags": []
   },
   "source": [
    "## 1. Mathematics"
   ]
  },
  {
   "cell_type": "markdown",
   "id": "f3f15e8a-5e1c-4116-afc5-1a8021b94aea",
   "metadata": {
    "id": "f3f15e8a-5e1c-4116-afc5-1a8021b94aea",
    "tags": []
   },
   "source": [
    "### 1. Sum of Natural Numbers."
   ]
  },
  {
   "cell_type": "code",
   "execution_count": null,
   "id": "495f99a6-51b2-4bc9-ae55-f74c053bbada",
   "metadata": {
    "id": "495f99a6-51b2-4bc9-ae55-f74c053bbada",
    "outputId": "39905a74-e6ce-437f-e5a4-ea83a74c8a71"
   },
   "outputs": [
    {
     "name": "stdin",
     "output_type": "stream",
     "text": [
      "Enter a Natural Number 100\n"
     ]
    },
    {
     "name": "stdout",
     "output_type": "stream",
     "text": [
      "The sum of first 100 natural numbers is 5050.\n"
     ]
    }
   ],
   "source": [
    "#Naive Approach\n",
    "n = int(input(\"Enter a Natural Number\"))\n",
    "sum = 0\n",
    "for i in range(n+1):\n",
    "    sum += i\n",
    "print(\"The sum of first {} natural numbers is {}.\".format(n,sum))"
   ]
  },
  {
   "cell_type": "code",
   "execution_count": null,
   "id": "9672a2ca-7e89-4d03-8f7b-b5c3221c896b",
   "metadata": {
    "id": "9672a2ca-7e89-4d03-8f7b-b5c3221c896b",
    "outputId": "3bbac76c-b799-4ea0-db8f-9123eb4b41e4"
   },
   "outputs": [
    {
     "name": "stdin",
     "output_type": "stream",
     "text": [
      "Enter a Natural Number :  10\n"
     ]
    },
    {
     "name": "stdout",
     "output_type": "stream",
     "text": [
      "The sum of first 10 natural numbers is 55.\n"
     ]
    }
   ],
   "source": [
    "#Best Solution\n",
    "n = int(input(\"Enter a Natural Number : \"))\n",
    "sum = n*(n+1)//2\n",
    "print(f\"The sum of first {n} natural numbers is {sum}.\")"
   ]
  },
  {
   "cell_type": "markdown",
   "id": "88318ba4-e13b-451d-ae34-ddf77a4657df",
   "metadata": {
    "id": "88318ba4-e13b-451d-ae34-ddf77a4657df"
   },
   "source": [
    "### 2. Count Number of Digits"
   ]
  },
  {
   "cell_type": "code",
   "execution_count": null,
   "id": "74819448-93ab-424a-bf73-f90228d67719",
   "metadata": {
    "id": "74819448-93ab-424a-bf73-f90228d67719",
    "outputId": "7441fb52-fe79-4e5b-9b3e-45df0b7bcc43"
   },
   "outputs": [
    {
     "name": "stdin",
     "output_type": "stream",
     "text": [
      "Enter a number to count it's digit :  10\n"
     ]
    },
    {
     "name": "stdout",
     "output_type": "stream",
     "text": [
      "There are 2 digits in the number 10.\n"
     ]
    }
   ],
   "source": [
    "#Best Approach\n",
    "n = int(input(\"Enter a number to count it's digit : \"))\n",
    "temp_n = n\n",
    "digits = 0\n",
    "while temp_n > 0:\n",
    "    temp_n //= 10\n",
    "    digits += 1\n",
    "print(f\"There are {digits} digits in the number {n}.\")"
   ]
  },
  {
   "cell_type": "markdown",
   "id": "23b85b09-f806-4de3-9631-99545d4d6774",
   "metadata": {
    "id": "23b85b09-f806-4de3-9631-99545d4d6774",
    "tags": []
   },
   "source": [
    "### 3. Palindrome Number"
   ]
  },
  {
   "cell_type": "code",
   "execution_count": null,
   "id": "417d0d0b-54af-4e39-870c-594b73741e03",
   "metadata": {
    "id": "417d0d0b-54af-4e39-870c-594b73741e03",
    "outputId": "bdd7192b-d0ce-483a-97d6-6bfb38b0ae46"
   },
   "outputs": [
    {
     "name": "stdin",
     "output_type": "stream",
     "text": [
      "Enter a number to check if it is palindrome :  1001\n"
     ]
    },
    {
     "name": "stdout",
     "output_type": "stream",
     "text": [
      "1001\n",
      "This is a palindrome number!\n"
     ]
    }
   ],
   "source": [
    "#Best Approach\n",
    "n = int(input(\"Enter a number to check if it is palindrome : \"))\n",
    "temp_n = n\n",
    "palindrome = 0\n",
    "while temp_n > 0:\n",
    "    ld = temp_n%10\n",
    "    palindrome = palindrome * 10 + ld\n",
    "    temp_n=temp_n//10\n",
    "\n",
    "print(palindrome)\n",
    "if n == palindrome:\n",
    "    print(\"This is a palindrome number!\")\n",
    "else:\n",
    "    print(\"Not a palindrome number!\")"
   ]
  },
  {
   "cell_type": "markdown",
   "id": "7cd4f727-bc5b-4172-8e04-afd5b0f5305d",
   "metadata": {
    "id": "7cd4f727-bc5b-4172-8e04-afd5b0f5305d"
   },
   "source": [
    "### 4. Factorial of a Number"
   ]
  },
  {
   "cell_type": "code",
   "execution_count": null,
   "id": "b288af94-7d85-4272-bf35-247db6ffa452",
   "metadata": {
    "id": "b288af94-7d85-4272-bf35-247db6ffa452",
    "outputId": "201905d5-bb7d-4c6e-e98c-60e1f4bba78e"
   },
   "outputs": [
    {
     "name": "stdin",
     "output_type": "stream",
     "text": [
      "Enter a number to find its factorial :  101\n"
     ]
    },
    {
     "name": "stdout",
     "output_type": "stream",
     "text": [
      "The factorial of 101 is 9425947759838359420851623124482936749562312794702543768327889353416977599316221476503087861591808346911623490003549599583369706302603264000000000000000000000000\n"
     ]
    }
   ],
   "source": [
    "#Iterative Approach\n",
    "n = int(input(\"Enter a number to find its factorial : \"))\n",
    "fact = 1\n",
    "for i in range(1,n+1):\n",
    "    fact *= i\n",
    "print(f\"The factorial of {n} is {fact}\")\n",
    "# Time complexity is Theta(n)"
   ]
  },
  {
   "cell_type": "code",
   "execution_count": null,
   "id": "2b4b8ace-6a31-4e9d-b4a8-2e4e390596af",
   "metadata": {
    "id": "2b4b8ace-6a31-4e9d-b4a8-2e4e390596af"
   },
   "outputs": [],
   "source": [
    "#Recursive Approach\n",
    "def fact(n):\n",
    "    \n",
    "    if n == 0:\n",
    "        return 1\n",
    "\n",
    "    return n * fact(n-1)\n",
    "# Time complexity is Theta(n)"
   ]
  },
  {
   "cell_type": "code",
   "execution_count": null,
   "id": "3ec07734-b32e-4d8d-8551-8a70251a6e22",
   "metadata": {
    "id": "3ec07734-b32e-4d8d-8551-8a70251a6e22",
    "outputId": "0bd88f7c-a6b4-4944-a932-d45e59cddeea"
   },
   "outputs": [
    {
     "data": {
      "text/plain": [
       "3628800"
      ]
     },
     "execution_count": 7,
     "metadata": {},
     "output_type": "execute_result"
    }
   ],
   "source": [
    "fact(10)"
   ]
  },
  {
   "cell_type": "markdown",
   "id": "62ea85e9-40dd-43ad-a207-fe32cdf047a0",
   "metadata": {
    "id": "62ea85e9-40dd-43ad-a207-fe32cdf047a0",
    "tags": []
   },
   "source": [
    "### 5. Trailing Zeros in Factorial"
   ]
  },
  {
   "cell_type": "code",
   "execution_count": null,
   "id": "ee69b0c9-93d4-44cc-993f-775ac11dc7fd",
   "metadata": {
    "id": "ee69b0c9-93d4-44cc-993f-775ac11dc7fd"
   },
   "outputs": [],
   "source": [
    "# Naive Solution\n",
    "def countZeros(n):\n",
    "    fact = 1\n",
    "    for i in range(1,n+1):\n",
    "        fact *= i\n",
    "    res = 0\n",
    "    while(fact % 10 ==0):\n",
    "        res += 1\n",
    "        fact //=10\n",
    "    return res"
   ]
  },
  {
   "cell_type": "code",
   "execution_count": null,
   "id": "d96176cb-7e0f-4a4e-ac52-4c93a7545aa8",
   "metadata": {
    "id": "d96176cb-7e0f-4a4e-ac52-4c93a7545aa8",
    "outputId": "e78cc9eb-f8ed-409d-c49a-184d09456511"
   },
   "outputs": [
    {
     "data": {
      "text/plain": [
       "62"
      ]
     },
     "execution_count": 9,
     "metadata": {},
     "output_type": "execute_result"
    }
   ],
   "source": [
    "countZeros(251)"
   ]
  },
  {
   "cell_type": "code",
   "execution_count": null,
   "id": "d4ce2012-9949-4301-8d81-54d4fa611f60",
   "metadata": {
    "id": "d4ce2012-9949-4301-8d81-54d4fa611f60"
   },
   "outputs": [],
   "source": [
    "# Best Solution\n",
    "def countZerosBest(n):\n",
    "    res = 0\n",
    "    i = 5\n",
    "    while (i<=n):\n",
    "        res = res + n//i\n",
    "        i *= 5\n",
    "    return res\n",
    "# Time complexity is theta(logn)"
   ]
  },
  {
   "cell_type": "code",
   "execution_count": null,
   "id": "64817bb4-440f-44e9-b2c6-4f969e840649",
   "metadata": {
    "id": "64817bb4-440f-44e9-b2c6-4f969e840649",
    "outputId": "cdab5d8f-5530-44f5-95a6-9801f4ab26ca"
   },
   "outputs": [
    {
     "data": {
      "text/plain": [
       "62"
      ]
     },
     "execution_count": 3,
     "metadata": {},
     "output_type": "execute_result"
    }
   ],
   "source": [
    "countZerosBest(251)"
   ]
  },
  {
   "cell_type": "markdown",
   "id": "d690dd4b-c072-4aca-847f-fdd6e4ba0a02",
   "metadata": {
    "id": "d690dd4b-c072-4aca-847f-fdd6e4ba0a02"
   },
   "source": [
    "### 6. GCD or HCF of two numbers"
   ]
  },
  {
   "cell_type": "code",
   "execution_count": null,
   "id": "1022cb19-05b5-4d58-a267-b2d3018ad4ec",
   "metadata": {
    "id": "1022cb19-05b5-4d58-a267-b2d3018ad4ec"
   },
   "outputs": [],
   "source": [
    "#Euclidean Algorithm - General\n",
    "def gcd(a,b):\n",
    "    while a != b:\n",
    "        if a > b:\n",
    "            a = a-b\n",
    "        else:\n",
    "            b = b-a\n",
    "    return a"
   ]
  },
  {
   "cell_type": "code",
   "execution_count": null,
   "id": "70cf41df-b68f-4bcb-a546-5a785d83db9a",
   "metadata": {
    "id": "70cf41df-b68f-4bcb-a546-5a785d83db9a",
    "outputId": "a4c61586-f76b-4d29-e59e-e556c84764de"
   },
   "outputs": [
    {
     "name": "stdout",
     "output_type": "stream",
     "text": [
      "1\n"
     ]
    }
   ],
   "source": [
    "print(gcd(12,17))"
   ]
  },
  {
   "cell_type": "code",
   "execution_count": null,
   "id": "8c903a5a-26d9-44f6-a597-faee35e2e587",
   "metadata": {
    "id": "8c903a5a-26d9-44f6-a597-faee35e2e587"
   },
   "outputs": [],
   "source": [
    "#Euclidean Algorithm - Optimised\n",
    "def gcdbest(a,b):\n",
    "    if b == 0:\n",
    "        return a\n",
    "    return gcd(b, a%b)"
   ]
  },
  {
   "cell_type": "code",
   "execution_count": null,
   "id": "7418bd2d-e3be-4f95-9d4f-50ad48069607",
   "metadata": {
    "id": "7418bd2d-e3be-4f95-9d4f-50ad48069607",
    "outputId": "8073b22f-1c73-42f2-b031-8e430805c93c"
   },
   "outputs": [
    {
     "data": {
      "text/plain": [
       "3"
      ]
     },
     "execution_count": 11,
     "metadata": {},
     "output_type": "execute_result"
    }
   ],
   "source": [
    "gcdbest(12,15)"
   ]
  },
  {
   "cell_type": "markdown",
   "id": "f71788c9-d59d-4476-89b8-ce1d007420c2",
   "metadata": {
    "id": "f71788c9-d59d-4476-89b8-ce1d007420c2",
    "tags": []
   },
   "source": [
    "### 7. LCM of two numbers"
   ]
  },
  {
   "cell_type": "code",
   "execution_count": null,
   "id": "fe55818f-556b-49c5-9aa3-b9e24a67ac7f",
   "metadata": {
    "id": "fe55818f-556b-49c5-9aa3-b9e24a67ac7f"
   },
   "outputs": [],
   "source": [
    "# Naive approach\n",
    "def lcm(a,b):\n",
    "    res = max(a,b)\n",
    "    \n",
    "    while True:\n",
    "        if res % s == 0 and res %b == 0:\n",
    "            return res\n",
    "        res += 1\n",
    "    return res"
   ]
  },
  {
   "cell_type": "code",
   "execution_count": null,
   "id": "5f5164e9-fad6-4469-9322-7d8aa0006d9d",
   "metadata": {
    "id": "5f5164e9-fad6-4469-9322-7d8aa0006d9d",
    "outputId": "6e32f2fc-4bd3-47bd-fa39-9ca5956c30bc"
   },
   "outputs": [
    {
     "data": {
      "text/plain": [
       "(10, 15, 98)"
      ]
     },
     "execution_count": 15,
     "metadata": {},
     "output_type": "execute_result"
    }
   ],
   "source": [
    "10,15,98"
   ]
  },
  {
   "cell_type": "code",
   "execution_count": 13,
   "id": "ca86c119-d984-49d2-b922-df47ba1e6e68",
   "metadata": {
    "id": "ca86c119-d984-49d2-b922-df47ba1e6e68"
   },
   "outputs": [],
   "source": [
    "# Better Approach\n",
    "def gcd(a,b):\n",
    "    \n",
    "    if b ==0:\n",
    "        return a\n",
    "    \n",
    "    return gcd(b, a%b)\n",
    "\n",
    "def lcm(a,b):\n",
    "    return a*b // gcd(a,b)\n"
   ]
  },
  {
   "cell_type": "code",
   "execution_count": 14,
   "id": "49d34c23-ef97-4b5f-a4ed-752e2854dd13",
   "metadata": {
    "id": "49d34c23-ef97-4b5f-a4ed-752e2854dd13",
    "outputId": "2f4a7f50-938b-46c4-cd54-c2397f01bf49"
   },
   "outputs": [
    {
     "name": "stdout",
     "output_type": "stream",
     "text": [
      "12\n"
     ]
    }
   ],
   "source": [
    "print(lcm(4,6))"
   ]
  },
  {
   "cell_type": "markdown",
   "id": "ace85116-546a-4c5d-b5f7-98f06d1c4b65",
   "metadata": {
    "id": "928c4857-2022-45a9-a15c-9c914be0bb7b",
    "tags": []
   },
   "source": [
    "### 8. Check for Prime"
   ]
  },
  {
   "cell_type": "code",
   "execution_count": 25,
   "id": "56cd8294-97ed-43e7-8951-57b26e6edc49",
   "metadata": {},
   "outputs": [],
   "source": [
    "# Naive Approach\n",
    "def isPrime(n):\n",
    "    \n",
    "    if n ==1:\n",
    "        return False\n",
    "    \n",
    "    for i in range(2,n):\n",
    "        if n % i == 0:\n",
    "            return False\n",
    "    return True\n",
    "# Time Complexity is O(N)"
   ]
  },
  {
   "cell_type": "code",
   "execution_count": 24,
   "id": "a3d2a32a-9c6b-4df2-a157-09783dd29a3e",
   "metadata": {},
   "outputs": [
    {
     "name": "stdout",
     "output_type": "stream",
     "text": [
      "True\n"
     ]
    }
   ],
   "source": [
    "print(isPrime(13))"
   ]
  },
  {
   "cell_type": "code",
   "execution_count": null,
   "id": "8e09a256-60e3-4321-a541-eddb62055e79",
   "metadata": {},
   "outputs": [],
   "source": []
  }
 ],
 "metadata": {
  "colab": {
   "provenance": []
  },
  "kernelspec": {
   "display_name": "Python 3 (ipykernel)",
   "language": "python",
   "name": "python3"
  },
  "language_info": {
   "codemirror_mode": {
    "name": "ipython",
    "version": 3
   },
   "file_extension": ".py",
   "mimetype": "text/x-python",
   "name": "python",
   "nbconvert_exporter": "python",
   "pygments_lexer": "ipython3",
   "version": "3.11.1"
  }
 },
 "nbformat": 4,
 "nbformat_minor": 5
}
