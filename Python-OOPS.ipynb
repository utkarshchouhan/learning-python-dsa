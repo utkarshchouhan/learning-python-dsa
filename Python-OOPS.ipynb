{
 "cells": [
  {
   "cell_type": "code",
   "execution_count": 1,
   "id": "2245256f-edb2-4430-aa0b-ae0e1904a627",
   "metadata": {},
   "outputs": [],
   "source": [
    "class Item:\n",
    "    def calculate_total_price:\n",
    "        "
   ]
  },
  {
   "cell_type": "code",
   "execution_count": 3,
   "id": "fdbbd11e-e109-4a69-8894-eeda592d2a3e",
   "metadata": {},
   "outputs": [],
   "source": [
    "item1 = Item()\n",
    "item1.name = \"Phone\"\n",
    "item1.price = 100\n",
    "item1.quantity = 5"
   ]
  },
  {
   "cell_type": "code",
   "execution_count": null,
   "id": "d759eab6-337a-4804-9143-23b9a011699b",
   "metadata": {},
   "outputs": [],
   "source": [
    "item2 = Item()\n",
    "item2.name = \"Phone\"\n",
    "item2.price = 100\n",
    "item2.quantity = 5"
   ]
  }
 ],
 "metadata": {
  "kernelspec": {
   "display_name": "Python 3 (ipykernel)",
   "language": "python",
   "name": "python3"
  },
  "language_info": {
   "codemirror_mode": {
    "name": "ipython",
    "version": 3
   },
   "file_extension": ".py",
   "mimetype": "text/x-python",
   "name": "python",
   "nbconvert_exporter": "python",
   "pygments_lexer": "ipython3",
   "version": "3.11.1"
  }
 },
 "nbformat": 4,
 "nbformat_minor": 5
}
