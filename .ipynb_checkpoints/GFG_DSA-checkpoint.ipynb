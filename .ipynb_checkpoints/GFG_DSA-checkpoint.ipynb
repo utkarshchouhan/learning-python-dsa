{
 "cells": [
  {
   "cell_type": "markdown",
   "id": "48259027-3000-4888-aedc-e85ed526e8aa",
   "metadata": {
    "id": "48259027-3000-4888-aedc-e85ed526e8aa"
   },
   "source": [
    "# This is a PYTHON DSA Codebook.\n",
    "This note contains codes for DSA Topics in proper sequence.\n",
    "Programs are documented (wherever neccessary) and follow best coding practices."
   ]
  },
  {
   "cell_type": "markdown",
   "id": "e1a4347e-b76d-476e-94e2-a8f4ea3dfce5",
   "metadata": {
    "id": "e1a4347e-b76d-476e-94e2-a8f4ea3dfce5",
    "tags": []
   },
   "source": [
    "# BASICS"
   ]
  },
  {
   "cell_type": "markdown",
   "id": "596fa36b-cee8-45f6-90dc-3fe974c9f1df",
   "metadata": {
    "id": "596fa36b-cee8-45f6-90dc-3fe974c9f1df",
    "tags": []
   },
   "source": [
    "## 1. Mathematics"
   ]
  },
  {
   "cell_type": "markdown",
   "id": "f3f15e8a-5e1c-4116-afc5-1a8021b94aea",
   "metadata": {
    "id": "f3f15e8a-5e1c-4116-afc5-1a8021b94aea",
    "tags": []
   },
   "source": [
    "### 1. Sum of Natural Numbers."
   ]
  },
  {
   "cell_type": "code",
   "execution_count": null,
   "id": "495f99a6-51b2-4bc9-ae55-f74c053bbada",
   "metadata": {
    "id": "495f99a6-51b2-4bc9-ae55-f74c053bbada",
    "outputId": "39905a74-e6ce-437f-e5a4-ea83a74c8a71"
   },
   "outputs": [
    {
     "name": "stdin",
     "output_type": "stream",
     "text": [
      "Enter a Natural Number 100\n"
     ]
    },
    {
     "name": "stdout",
     "output_type": "stream",
     "text": [
      "The sum of first 100 natural numbers is 5050.\n"
     ]
    }
   ],
   "source": [
    "#Naive Approach\n",
    "n = int(input(\"Enter a Natural Number\"))\n",
    "sum = 0\n",
    "for i in range(n+1):\n",
    "    sum += i\n",
    "print(\"The sum of first {} natural numbers is {}.\".format(n,sum))"
   ]
  },
  {
   "cell_type": "code",
   "execution_count": null,
   "id": "9672a2ca-7e89-4d03-8f7b-b5c3221c896b",
   "metadata": {
    "id": "9672a2ca-7e89-4d03-8f7b-b5c3221c896b",
    "outputId": "3bbac76c-b799-4ea0-db8f-9123eb4b41e4"
   },
   "outputs": [
    {
     "name": "stdin",
     "output_type": "stream",
     "text": [
      "Enter a Natural Number :  10\n"
     ]
    },
    {
     "name": "stdout",
     "output_type": "stream",
     "text": [
      "The sum of first 10 natural numbers is 55.\n"
     ]
    }
   ],
   "source": [
    "#Best Solution\n",
    "n = int(input(\"Enter a Natural Number : \"))\n",
    "sum = n*(n+1)//2\n",
    "print(f\"The sum of first {n} natural numbers is {sum}.\")"
   ]
  },
  {
   "cell_type": "markdown",
   "id": "88318ba4-e13b-451d-ae34-ddf77a4657df",
   "metadata": {
    "id": "88318ba4-e13b-451d-ae34-ddf77a4657df"
   },
   "source": [
    "### 2. Count Number of Digits"
   ]
  },
  {
   "cell_type": "code",
   "execution_count": null,
   "id": "74819448-93ab-424a-bf73-f90228d67719",
   "metadata": {
    "id": "74819448-93ab-424a-bf73-f90228d67719",
    "outputId": "7441fb52-fe79-4e5b-9b3e-45df0b7bcc43"
   },
   "outputs": [
    {
     "name": "stdin",
     "output_type": "stream",
     "text": [
      "Enter a number to count it's digit :  10\n"
     ]
    },
    {
     "name": "stdout",
     "output_type": "stream",
     "text": [
      "There are 2 digits in the number 10.\n"
     ]
    }
   ],
   "source": [
    "#Best Approach\n",
    "n = int(input(\"Enter a number to count it's digit : \"))\n",
    "temp_n = n\n",
    "digits = 0\n",
    "while temp_n > 0:\n",
    "    temp_n //= 10\n",
    "    digits += 1\n",
    "print(f\"There are {digits} digits in the number {n}.\")"
   ]
  },
  {
   "cell_type": "markdown",
   "id": "23b85b09-f806-4de3-9631-99545d4d6774",
   "metadata": {
    "id": "23b85b09-f806-4de3-9631-99545d4d6774",
    "tags": []
   },
   "source": [
    "### 3. Palindrome Number"
   ]
  },
  {
   "cell_type": "code",
   "execution_count": null,
   "id": "417d0d0b-54af-4e39-870c-594b73741e03",
   "metadata": {
    "id": "417d0d0b-54af-4e39-870c-594b73741e03",
    "outputId": "bdd7192b-d0ce-483a-97d6-6bfb38b0ae46"
   },
   "outputs": [
    {
     "name": "stdin",
     "output_type": "stream",
     "text": [
      "Enter a number to check if it is palindrome :  1001\n"
     ]
    },
    {
     "name": "stdout",
     "output_type": "stream",
     "text": [
      "1001\n",
      "This is a palindrome number!\n"
     ]
    }
   ],
   "source": [
    "#Best Approach\n",
    "n = int(input(\"Enter a number to check if it is palindrome : \"))\n",
    "temp_n = n\n",
    "palindrome = 0\n",
    "while temp_n > 0:\n",
    "    ld = temp_n%10\n",
    "    palindrome = palindrome * 10 + ld\n",
    "    temp_n=temp_n//10\n",
    "\n",
    "print(palindrome)\n",
    "if n == palindrome:\n",
    "    print(\"This is a palindrome number!\")\n",
    "else:\n",
    "    print(\"Not a palindrome number!\")"
   ]
  },
  {
   "cell_type": "markdown",
   "id": "7cd4f727-bc5b-4172-8e04-afd5b0f5305d",
   "metadata": {
    "id": "7cd4f727-bc5b-4172-8e04-afd5b0f5305d"
   },
   "source": [
    "### 4. Factorial of a Number"
   ]
  },
  {
   "cell_type": "code",
   "execution_count": null,
   "id": "b288af94-7d85-4272-bf35-247db6ffa452",
   "metadata": {
    "id": "b288af94-7d85-4272-bf35-247db6ffa452",
    "outputId": "201905d5-bb7d-4c6e-e98c-60e1f4bba78e"
   },
   "outputs": [
    {
     "name": "stdin",
     "output_type": "stream",
     "text": [
      "Enter a number to find its factorial :  101\n"
     ]
    },
    {
     "name": "stdout",
     "output_type": "stream",
     "text": [
      "The factorial of 101 is 9425947759838359420851623124482936749562312794702543768327889353416977599316221476503087861591808346911623490003549599583369706302603264000000000000000000000000\n"
     ]
    }
   ],
   "source": [
    "#Iterative Approach\n",
    "n = int(input(\"Enter a number to find its factorial : \"))\n",
    "fact = 1\n",
    "for i in range(1,n+1):\n",
    "    fact *= i\n",
    "print(f\"The factorial of {n} is {fact}\")\n",
    "# Time complexity is Theta(n)"
   ]
  },
  {
   "cell_type": "code",
   "execution_count": null,
   "id": "2b4b8ace-6a31-4e9d-b4a8-2e4e390596af",
   "metadata": {
    "id": "2b4b8ace-6a31-4e9d-b4a8-2e4e390596af"
   },
   "outputs": [],
   "source": [
    "#Recursive Approach\n",
    "def fact(n):\n",
    "    \n",
    "    if n == 0:\n",
    "        return 1\n",
    "\n",
    "    return n * fact(n-1)\n",
    "# Time complexity is Theta(n)"
   ]
  },
  {
   "cell_type": "code",
   "execution_count": null,
   "id": "3ec07734-b32e-4d8d-8551-8a70251a6e22",
   "metadata": {
    "id": "3ec07734-b32e-4d8d-8551-8a70251a6e22",
    "outputId": "0bd88f7c-a6b4-4944-a932-d45e59cddeea"
   },
   "outputs": [
    {
     "data": {
      "text/plain": [
       "3628800"
      ]
     },
     "execution_count": 7,
     "metadata": {},
     "output_type": "execute_result"
    }
   ],
   "source": [
    "fact(10)"
   ]
  },
  {
   "cell_type": "markdown",
   "id": "62ea85e9-40dd-43ad-a207-fe32cdf047a0",
   "metadata": {
    "id": "62ea85e9-40dd-43ad-a207-fe32cdf047a0",
    "tags": []
   },
   "source": [
    "### 5. Trailing Zeros in Factorial"
   ]
  },
  {
   "cell_type": "code",
   "execution_count": null,
   "id": "ee69b0c9-93d4-44cc-993f-775ac11dc7fd",
   "metadata": {
    "id": "ee69b0c9-93d4-44cc-993f-775ac11dc7fd"
   },
   "outputs": [],
   "source": [
    "# Naive Solution\n",
    "def countZeros(n):\n",
    "    fact = 1\n",
    "    for i in range(1,n+1):\n",
    "        fact *= i\n",
    "    res = 0\n",
    "    while(fact % 10 ==0):\n",
    "        res += 1\n",
    "        fact //=10\n",
    "    return res"
   ]
  },
  {
   "cell_type": "code",
   "execution_count": null,
   "id": "d96176cb-7e0f-4a4e-ac52-4c93a7545aa8",
   "metadata": {
    "id": "d96176cb-7e0f-4a4e-ac52-4c93a7545aa8",
    "outputId": "e78cc9eb-f8ed-409d-c49a-184d09456511"
   },
   "outputs": [
    {
     "data": {
      "text/plain": [
       "62"
      ]
     },
     "execution_count": 9,
     "metadata": {},
     "output_type": "execute_result"
    }
   ],
   "source": [
    "countZeros(251)"
   ]
  },
  {
   "cell_type": "code",
   "execution_count": null,
   "id": "d4ce2012-9949-4301-8d81-54d4fa611f60",
   "metadata": {
    "id": "d4ce2012-9949-4301-8d81-54d4fa611f60"
   },
   "outputs": [],
   "source": [
    "# Best Solution\n",
    "def countZerosBest(n):\n",
    "    res = 0\n",
    "    i = 5\n",
    "    while (i<=n):\n",
    "        res = res + n//i\n",
    "        i *= 5\n",
    "    return res\n",
    "# Time complexity is theta(logn)"
   ]
  },
  {
   "cell_type": "code",
   "execution_count": null,
   "id": "64817bb4-440f-44e9-b2c6-4f969e840649",
   "metadata": {
    "id": "64817bb4-440f-44e9-b2c6-4f969e840649",
    "outputId": "cdab5d8f-5530-44f5-95a6-9801f4ab26ca"
   },
   "outputs": [
    {
     "data": {
      "text/plain": [
       "62"
      ]
     },
     "execution_count": 3,
     "metadata": {},
     "output_type": "execute_result"
    }
   ],
   "source": [
    "countZerosBest(251)"
   ]
  },
  {
   "cell_type": "markdown",
   "id": "d690dd4b-c072-4aca-847f-fdd6e4ba0a02",
   "metadata": {
    "id": "d690dd4b-c072-4aca-847f-fdd6e4ba0a02"
   },
   "source": [
    "### 6. GCD or HCF of two numbers"
   ]
  },
  {
   "cell_type": "code",
   "execution_count": null,
   "id": "1022cb19-05b5-4d58-a267-b2d3018ad4ec",
   "metadata": {
    "id": "1022cb19-05b5-4d58-a267-b2d3018ad4ec"
   },
   "outputs": [],
   "source": [
    "#Euclidean Algorithm - General\n",
    "def gcd(a,b):\n",
    "    while a != b:\n",
    "        if a > b:\n",
    "            a = a-b\n",
    "        else:\n",
    "            b = b-a\n",
    "    return a"
   ]
  },
  {
   "cell_type": "code",
   "execution_count": null,
   "id": "70cf41df-b68f-4bcb-a546-5a785d83db9a",
   "metadata": {
    "id": "70cf41df-b68f-4bcb-a546-5a785d83db9a",
    "outputId": "a4c61586-f76b-4d29-e59e-e556c84764de"
   },
   "outputs": [
    {
     "name": "stdout",
     "output_type": "stream",
     "text": [
      "1\n"
     ]
    }
   ],
   "source": [
    "print(gcd(12,17))"
   ]
  },
  {
   "cell_type": "code",
   "execution_count": null,
   "id": "8c903a5a-26d9-44f6-a597-faee35e2e587",
   "metadata": {
    "id": "8c903a5a-26d9-44f6-a597-faee35e2e587"
   },
   "outputs": [],
   "source": [
    "#Euclidean Algorithm - Optimised\n",
    "def gcdbest(a,b):\n",
    "    if b == 0:\n",
    "        return a\n",
    "    return gcd(b, a%b)"
   ]
  },
  {
   "cell_type": "code",
   "execution_count": null,
   "id": "7418bd2d-e3be-4f95-9d4f-50ad48069607",
   "metadata": {
    "id": "7418bd2d-e3be-4f95-9d4f-50ad48069607",
    "outputId": "8073b22f-1c73-42f2-b031-8e430805c93c"
   },
   "outputs": [
    {
     "data": {
      "text/plain": [
       "3"
      ]
     },
     "execution_count": 11,
     "metadata": {},
     "output_type": "execute_result"
    }
   ],
   "source": [
    "gcdbest(12,15)"
   ]
  },
  {
   "cell_type": "markdown",
   "id": "f71788c9-d59d-4476-89b8-ce1d007420c2",
   "metadata": {
    "id": "f71788c9-d59d-4476-89b8-ce1d007420c2",
    "tags": []
   },
   "source": [
    "### 7. LCM of two numbers"
   ]
  },
  {
   "cell_type": "code",
   "execution_count": null,
   "id": "fe55818f-556b-49c5-9aa3-b9e24a67ac7f",
   "metadata": {
    "id": "fe55818f-556b-49c5-9aa3-b9e24a67ac7f"
   },
   "outputs": [],
   "source": [
    "# Naive approach\n",
    "def lcm(a,b):\n",
    "    res = max(a,b)\n",
    "    \n",
    "    while True:\n",
    "        if res % s == 0 and res %b == 0:\n",
    "            return res\n",
    "        res += 1\n",
    "    return res"
   ]
  },
  {
   "cell_type": "code",
   "execution_count": null,
   "id": "5f5164e9-fad6-4469-9322-7d8aa0006d9d",
   "metadata": {
    "id": "5f5164e9-fad6-4469-9322-7d8aa0006d9d",
    "outputId": "6e32f2fc-4bd3-47bd-fa39-9ca5956c30bc"
   },
   "outputs": [
    {
     "data": {
      "text/plain": [
       "(10, 15, 98)"
      ]
     },
     "execution_count": 15,
     "metadata": {},
     "output_type": "execute_result"
    }
   ],
   "source": [
    "10,15,98"
   ]
  },
  {
   "cell_type": "code",
   "execution_count": 13,
   "id": "ca86c119-d984-49d2-b922-df47ba1e6e68",
   "metadata": {
    "id": "ca86c119-d984-49d2-b922-df47ba1e6e68"
   },
   "outputs": [],
   "source": [
    "# Better Approach\n",
    "def gcd(a,b):\n",
    "    \n",
    "    if b ==0:\n",
    "        return a\n",
    "    \n",
    "    return gcd(b, a%b)\n",
    "\n",
    "def lcm(a,b):\n",
    "    return a*b // gcd(a,b)\n"
   ]
  },
  {
   "cell_type": "code",
   "execution_count": 14,
   "id": "49d34c23-ef97-4b5f-a4ed-752e2854dd13",
   "metadata": {
    "id": "49d34c23-ef97-4b5f-a4ed-752e2854dd13",
    "outputId": "2f4a7f50-938b-46c4-cd54-c2397f01bf49"
   },
   "outputs": [
    {
     "name": "stdout",
     "output_type": "stream",
     "text": [
      "12\n"
     ]
    }
   ],
   "source": [
    "print(lcm(4,6))"
   ]
  },
  {
   "cell_type": "markdown",
   "id": "ace85116-546a-4c5d-b5f7-98f06d1c4b65",
   "metadata": {
    "id": "928c4857-2022-45a9-a15c-9c914be0bb7b",
    "tags": []
   },
   "source": [
    "### 8. Check for Prime"
   ]
  },
  {
   "cell_type": "code",
   "execution_count": 2,
   "id": "56cd8294-97ed-43e7-8951-57b26e6edc49",
   "metadata": {},
   "outputs": [],
   "source": [
    "# Naive Approach\n",
    "def isPrime(n):\n",
    "    \n",
    "    if n ==1:\n",
    "        return False\n",
    "    \n",
    "    for i in range(2,n):\n",
    "        if n % i == 0:\n",
    "            return False\n",
    "    return True\n",
    "# Time Complexity is O(N)"
   ]
  },
  {
   "cell_type": "code",
   "execution_count": 3,
   "id": "a3d2a32a-9c6b-4df2-a157-09783dd29a3e",
   "metadata": {},
   "outputs": [
    {
     "name": "stdout",
     "output_type": "stream",
     "text": [
      "True\n"
     ]
    }
   ],
   "source": [
    "print(isPrime(13))"
   ]
  },
  {
   "cell_type": "markdown",
   "id": "cca7ab94-27eb-409b-b929-116f9c9fa810",
   "metadata": {},
   "source": [
    "### 9. Prime Factorization"
   ]
  },
  {
   "cell_type": "code",
   "execution_count": 14,
   "id": "1344bc5b-6406-48c3-a6cc-bafbf0955e5e",
   "metadata": {},
   "outputs": [],
   "source": [
    "# Naive Approach\n",
    "def isPrime(x):\n",
    "\tfor i in range(2,x):\n",
    "\t\tif x % i ==0:\n",
    "\t\t\treturn False\n",
    "\treturn True"
   ]
  },
  {
   "cell_type": "code",
   "execution_count": 15,
   "id": "08a643a3-4e29-4e06-9417-7069e74c473f",
   "metadata": {},
   "outputs": [],
   "source": [
    "def primeFactors(n):\n",
    "    for i in range(2,n+1):\n",
    "        if isPrime(i):\n",
    "            x = i\n",
    "            while n%x == 0:\n",
    "                print(i)\n",
    "                x = x*i"
   ]
  },
  {
   "cell_type": "code",
   "execution_count": 16,
   "id": "594a841a-c70f-4cab-ad25-550ca2ee7ee4",
   "metadata": {},
   "outputs": [
    {
     "name": "stdin",
     "output_type": "stream",
     "text": [
      "Enter a number:  15\n"
     ]
    },
    {
     "name": "stdout",
     "output_type": "stream",
     "text": [
      "3\n",
      "5\n",
      "None\n"
     ]
    }
   ],
   "source": [
    "n = int(input(\"Enter a number: \"))\n",
    "print(primeFactors(n))"
   ]
  },
  {
   "cell_type": "markdown",
   "id": "53ba61a5-0fd9-4e7d-ad20-b405a96d120c",
   "metadata": {},
   "source": [
    "### 10. All Divisors of a Number"
   ]
  },
  {
   "cell_type": "code",
   "execution_count": 18,
   "id": "375c85e8-c9ad-4a4b-a731-cdc952c40421",
   "metadata": {},
   "outputs": [],
   "source": [
    "# Naive Approach\n",
    "\n",
    "def printDivisors(n):\n",
    "    for i in range(1,n+1):\n",
    "        if n%i == 0:\n",
    "            print(i)"
   ]
  },
  {
   "cell_type": "code",
   "execution_count": 19,
   "id": "26404f2a-cb6a-48af-b35a-a8dc25746085",
   "metadata": {},
   "outputs": [
    {
     "name": "stdout",
     "output_type": "stream",
     "text": [
      "1\n",
      "2\n",
      "5\n",
      "10\n"
     ]
    }
   ],
   "source": [
    "printDivisors(10)"
   ]
  },
  {
   "cell_type": "code",
   "execution_count": 16,
   "id": "a2c3627b-0cd8-4eb4-b243-060724198f70",
   "metadata": {},
   "outputs": [],
   "source": [
    "# Efficient Solution\n",
    "\n",
    "def printDivisorsEff(n):\n",
    "    i = 1\n",
    "    while i*i <= n:\n",
    "        if n%i ==0:\n",
    "            print(i)\n",
    "            if i != n/i:\n",
    "                print(n//i)\n",
    "        i += 1"
   ]
  },
  {
   "cell_type": "code",
   "execution_count": 23,
   "id": "4b8c5fb7-f2fe-4416-b019-6e48f092051f",
   "metadata": {},
   "outputs": [],
   "source": [
    "# Best Appraoch\n",
    "\n",
    "def printDivisorsBest(n):\n",
    "\ti = 1\n",
    "\twhile i*i < n:\n",
    "\t\tif n%i ==0:\n",
    "\t\t\tprint(i)\n",
    "\t\ti += 1\n",
    "        \n",
    "\twhile i >= 1:\n",
    "\t\tif n % i ==0:\n",
    "\t\t\tprint(n//i)\n",
    "\t\ti -= 1"
   ]
  },
  {
   "cell_type": "code",
   "execution_count": 24,
   "id": "ae6a385e-15cd-4918-8fc9-10d9a59ee265",
   "metadata": {},
   "outputs": [
    {
     "name": "stdout",
     "output_type": "stream",
     "text": [
      "1\n",
      "2\n",
      "5\n",
      "10\n"
     ]
    }
   ],
   "source": [
    "printDivisorsBest(10)"
   ]
  },
  {
   "cell_type": "code",
   "execution_count": null,
   "id": "c75d3c10-849e-4de4-84be-0ce3ac4c8099",
   "metadata": {},
   "outputs": [],
   "source": []
  },
  {
   "cell_type": "code",
   "execution_count": null,
   "id": "a78081d0-22f8-4795-91c8-b27c0a546e38",
   "metadata": {},
   "outputs": [],
   "source": []
  },
  {
   "cell_type": "code",
   "execution_count": null,
   "id": "7eb2d63f-5ff9-4f03-8ac5-8cb12b8106dc",
   "metadata": {},
   "outputs": [],
   "source": []
  },
  {
   "cell_type": "markdown",
   "id": "36494bd3-8e52-4920-9a02-a751432f63de",
   "metadata": {},
   "source": [
    "## 2. Lists"
   ]
  },
  {
   "cell_type": "markdown",
   "id": "63329fba-3cb5-4976-afe1-18d8076bd118",
   "metadata": {},
   "source": [
    "### 1. List (Dynamic Sized Array) Introduction\n",
    "## List Functions"
   ]
  },
  {
   "cell_type": "code",
   "execution_count": 2,
   "id": "c0166b51-2fa7-4e43-9118-954c9e96f25c",
   "metadata": {},
   "outputs": [
    {
     "name": "stdout",
     "output_type": "stream",
     "text": [
      "Before any operation [10, 20, 30, 40, 50] \n",
      "\n",
      "After append [10, 20, 30, 40, 50, 30] \n",
      "\n",
      "After insert [10, 18, 20, 30, 40, 50, 30] \n",
      "\n",
      "Number of time element 30 occurs is = 2 \n",
      "\n",
      "The element 30 is present at the index = 3 \n",
      "\n",
      "The element 30 is present at the index = 3 \n",
      "\n"
     ]
    }
   ],
   "source": [
    "# Example 1\n",
    "\n",
    "l = [10,20,30,40,50]\n",
    "print('Before any operation',l,'\\n')\n",
    "l.append(30) #Adds the element at the end of the list\n",
    "print('After append',l,'\\n')\n",
    "l.insert(1,18) # Inserts the element (18 here) at a given index (1 Here)\n",
    "print('After insert',l,'\\n')\n",
    "n = 30\n",
    "print(f'Number of time element {n} occurs is = {l.count(n)} \\n') # Counts the occurrences of a given number.\n",
    "print(f'The element {n} is present at the index = {l.index(n)} \\n') # Returns the index of a given number.\n",
    "print(f'The element {n} is present at the index = {l.index(n)} \\n') # Returns the index of a given number betw"
   ]
  },
  {
   "cell_type": "code",
   "execution_count": 4,
   "id": "5806630b-89dc-4c20-9915-8384dcd1ad82",
   "metadata": {},
   "outputs": [
    {
     "name": "stdout",
     "output_type": "stream",
     "text": [
      "[10, 20, 30, 40, 50, 60, 70, 80]\n",
      "[10, 30, 40, 50, 60, 70, 80]\n",
      "80\n",
      "[10, 40, 50, 60, 70]\n",
      "[50, 60, 70]\n"
     ]
    }
   ],
   "source": [
    "# Example 2\n",
    "\n",
    "l = [10,20,30,40,50,60,70,80]\n",
    "print(l)\n",
    "l.remove(20) # removes the given element\n",
    "print(l)\n",
    "print(l.pop()) # removes the last element\n",
    "del l[1] # deletes the element in the given index\n",
    "print(l)\n",
    "del l[0:2] # deletes the elements at the given range\n",
    "print(l)"
   ]
  },
  {
   "cell_type": "code",
   "execution_count": 15,
   "id": "0a76a393-87b2-49e3-a8e9-ad8f7e7de0a4",
   "metadata": {},
   "outputs": [
    {
     "name": "stdout",
     "output_type": "stream",
     "text": [
      "50\n",
      "10\n",
      "120\n",
      "[10, 40, 20, 50]\n",
      "[10, 20, 40, 50]\n",
      "[50, 40, 20, 10]\n"
     ]
    }
   ],
   "source": [
    "# Example 3\n",
    "l = [10,40,20,50]\n",
    "print(max(l)) # prints the maximum element in the list\n",
    "print(min(l)) # prints the minimum element of the list\n",
    "print(sum(l)) # sums all the element of the list\n",
    "print(l)\n",
    "l.sort() # sorts the existing list (sorted can be used)\n",
    "print(l)\n",
    "l.reverse() # reverses the list\n",
    "print(l)\n",
    "\n"
   ]
  },
  {
   "cell_type": "markdown",
   "id": "b0ccf841-8197-49b1-ac7a-cede28a91074",
   "metadata": {},
   "source": [
    "### 2. Working of List in Python\n"
   ]
  },
  {
   "cell_type": "code",
   "execution_count": 16,
   "id": "60b3759c-dbc6-4047-b9be-7591a7e07c19",
   "metadata": {},
   "outputs": [],
   "source": [
    "# Nothing here yet"
   ]
  },
  {
   "cell_type": "markdown",
   "id": "6727a383-763a-423a-931d-1aa917be84a9",
   "metadata": {},
   "source": [
    "### 3. Average or Mean of a List"
   ]
  },
  {
   "cell_type": "code",
   "execution_count": 20,
   "id": "50f611c4-596e-4f95-81b9-699d0ad54821",
   "metadata": {},
   "outputs": [],
   "source": [
    "l = [10,40,60,80]"
   ]
  },
  {
   "cell_type": "code",
   "execution_count": 32,
   "id": "268024b8-dc5a-4aa7-a29c-497bd8c773f5",
   "metadata": {},
   "outputs": [],
   "source": [
    "# Naive Approach\n",
    "\n",
    "def average1(l):\n",
    "    sum = 0\n",
    "    for i in l:\n",
    "        sum += i\n",
    "    return sum/len(l)"
   ]
  },
  {
   "cell_type": "code",
   "execution_count": 33,
   "id": "36e6d60d-6db2-42a8-89e1-9263642c3823",
   "metadata": {},
   "outputs": [],
   "source": [
    "# In-Built Functions\n",
    "\n",
    "def average2(l):\n",
    "    return (sum(l)/len(l))"
   ]
  },
  {
   "cell_type": "code",
   "execution_count": 34,
   "id": "b3dc69cb-f085-4fd7-92bd-ca9da6a468d5",
   "metadata": {},
   "outputs": [
    {
     "name": "stdout",
     "output_type": "stream",
     "text": [
      "47.5\n"
     ]
    }
   ],
   "source": [
    "print(average1(l))"
   ]
  },
  {
   "cell_type": "code",
   "execution_count": 35,
   "id": "d06f27c9-d5b9-440b-9ad7-1a1fad694e3f",
   "metadata": {},
   "outputs": [
    {
     "name": "stdout",
     "output_type": "stream",
     "text": [
      "47.5\n"
     ]
    }
   ],
   "source": [
    "print(average2(l))"
   ]
  },
  {
   "cell_type": "markdown",
   "id": "68b03332-6d1e-44e5-a949-c9b0b6759bde",
   "metadata": {},
   "source": [
    "### 4. Seprate Even and Odd"
   ]
  },
  {
   "cell_type": "code",
   "execution_count": 39,
   "id": "98a2f195-c7d6-4e09-bf75-7d19d1a49a25",
   "metadata": {},
   "outputs": [],
   "source": [
    "l = [1,424,3123,90,53]"
   ]
  },
  {
   "cell_type": "code",
   "execution_count": 44,
   "id": "0de235de-c855-44ed-92c1-8e54753a379d",
   "metadata": {},
   "outputs": [],
   "source": [
    "# Naive Approach\n",
    "\n",
    "def getEvenOdd(l):\n",
    "    even = []\n",
    "    odd = []\n",
    "    for i in l:\n",
    "        if i%2==0:\n",
    "            even.append(i)\n",
    "        else:\n",
    "            odd.append(i)\n",
    "    return even,odd"
   ]
  },
  {
   "cell_type": "code",
   "execution_count": 45,
   "id": "04452ac0-4f59-492a-82bd-77b4094a67dc",
   "metadata": {},
   "outputs": [
    {
     "name": "stdout",
     "output_type": "stream",
     "text": [
      "([424, 90], [1, 3123, 53])\n"
     ]
    }
   ],
   "source": [
    "print(getEvenOdd(l))"
   ]
  },
  {
   "cell_type": "markdown",
   "id": "0652ffba-cf43-4d0c-ae8d-02765639210d",
   "metadata": {},
   "source": [
    "### 5. Get Smaller Elements"
   ]
  },
  {
   "cell_type": "code",
   "execution_count": 55,
   "id": "469001f7-b9fb-47a6-8906-3e6e9e00819a",
   "metadata": {},
   "outputs": [],
   "source": [
    "# Naive Approach\n",
    "l = [10,2,24,13,43,84]\n",
    "x = 50\n",
    "def getSmaller(l,x):\n",
    "    ''' Inputs:  l -> A list of number, x -> An integer.\n",
    "    \tOutputs: A list numbers having value less than x'''\n",
    "    res = []\n",
    "    for i in l:\n",
    "        if i<x:\n",
    "            res.append(i)\n",
    "    return res"
   ]
  },
  {
   "cell_type": "code",
   "execution_count": 56,
   "id": "f327240b-c973-4434-8e8f-27c4d2cc1539",
   "metadata": {},
   "outputs": [
    {
     "name": "stdout",
     "output_type": "stream",
     "text": [
      "[10, 2, 24, 13, 43]\n"
     ]
    }
   ],
   "source": [
    "print(getSmaller(l,x))"
   ]
  },
  {
   "cell_type": "markdown",
   "id": "25dad19c-0404-41d7-89fe-63154955081a",
   "metadata": {},
   "source": [
    "### 6. Slicing(List,Tuple, and String)"
   ]
  },
  {
   "cell_type": "code",
   "execution_count": null,
   "id": "84882bf5-1732-4e3b-82da-b2e7fcebb72f",
   "metadata": {},
   "outputs": [],
   "source": []
  },
  {
   "cell_type": "code",
   "execution_count": null,
   "id": "20a9b8d3-1b0d-4747-be8e-f5bfa39d729b",
   "metadata": {},
   "outputs": [],
   "source": []
  },
  {
   "cell_type": "markdown",
   "id": "80d07105-dce9-4a19-92b4-b5648f5a755f",
   "metadata": {},
   "source": [
    "### 7. Comprehensions in Python"
   ]
  },
  {
   "cell_type": "markdown",
   "id": "83cb030d-4b32-4933-ad32-4cd31d975254",
   "metadata": {},
   "source": [
    "### 8. Largest Element in a List"
   ]
  },
  {
   "cell_type": "markdown",
   "id": "6a136fe2-1af4-460a-81e9-223f64fcd0b6",
   "metadata": {},
   "source": [
    "### 9. Second Largest Element in a List"
   ]
  },
  {
   "cell_type": "markdown",
   "id": "79df0768-11c2-4869-baa6-deb7a1a973b6",
   "metadata": {},
   "source": [
    "### 10. Check if a list is Sorted"
   ]
  },
  {
   "cell_type": "markdown",
   "id": "5285dfbf-7065-4125-8efe-7aab5318ea76",
   "metadata": {},
   "source": [
    "### 11. REVERSE A LIST PYTHON"
   ]
  },
  {
   "cell_type": "markdown",
   "id": "16f2f78d-c086-46a8-8384-a5582361365b",
   "metadata": {},
   "source": [
    "### 12. ITEM DUPLICATES"
   ]
  },
  {
   "cell_type": "markdown",
   "id": "7de1906d-d2ff-4e77-930e-af30c27331fb",
   "metadata": {},
   "source": [
    "### 13. Left rotate a list by one (Counter-Clockwise)"
   ]
  },
  {
   "cell_type": "code",
   "execution_count": 76,
   "id": "f42583a9-dc77-44bb-8221-26404143876d",
   "metadata": {},
   "outputs": [
    {
     "name": "stdout",
     "output_type": "stream",
     "text": [
      "[20, 30, 40, 50, 10]\n"
     ]
    }
   ],
   "source": [
    "# List Slicing\n",
    "\n",
    "l = [10,20,30,40,50]\n",
    "l = l[1:] + l[0:1]\n",
    "print(l)"
   ]
  },
  {
   "cell_type": "code",
   "execution_count": 67,
   "id": "e4f4b06d-90c3-44e0-a28a-bfad3fa4a76a",
   "metadata": {},
   "outputs": [
    {
     "name": "stdout",
     "output_type": "stream",
     "text": [
      "[10, 20, 30, 40, 50]\n",
      "[20, 30, 40, 50, 10]\n"
     ]
    }
   ],
   "source": [
    "# List Methods\n",
    "\n",
    "l = [10,20,30,40,50]\n",
    "print(l)\n",
    "l.append(l.pop(0))\n",
    "print(l)"
   ]
  },
  {
   "cell_type": "code",
   "execution_count": 84,
   "id": "b950cd26-d602-4d5a-9773-c49804e21012",
   "metadata": {},
   "outputs": [],
   "source": [
    "# Naive Approach\n",
    "l = [10,20,30,40,50]\n",
    "\n",
    "def rotateByOne(l):\n",
    "    n = len(l)\n",
    "    x = l[0]\n",
    "    for i in range(1,n):\n",
    "        l[i-1] = l[i]\n",
    "    len[n-1]  = x"
   ]
  },
  {
   "cell_type": "code",
   "execution_count": null,
   "id": "40ff1059-4624-4e35-9caa-3a9e6a013582",
   "metadata": {},
   "outputs": [],
   "source": []
  }
 ],
 "metadata": {
  "colab": {
   "provenance": []
  },
  "kernelspec": {
   "display_name": "Python 3 (ipykernel)",
   "language": "python",
   "name": "python3"
  },
  "language_info": {
   "codemirror_mode": {
    "name": "ipython",
    "version": 3
   },
   "file_extension": ".py",
   "mimetype": "text/x-python",
   "name": "python",
   "nbconvert_exporter": "python",
   "pygments_lexer": "ipython3",
   "version": "3.11.1"
  }
 },
 "nbformat": 4,
 "nbformat_minor": 5
}
